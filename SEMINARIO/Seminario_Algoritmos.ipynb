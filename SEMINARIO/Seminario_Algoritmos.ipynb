{
  "cells": [
    {
      "cell_type": "markdown",
      "metadata": {
        "id": "view-in-github",
        "colab_type": "text"
      },
      "source": [
        "<a href=\"https://colab.research.google.com/github/aitorfacio/03MIAR_04_B_2023-24_Algoritmos_de_Optimizacion/blob/main/SEMINARIO/Seminario_Algoritmos.ipynb\" target=\"_parent\"><img src=\"https://colab.research.google.com/assets/colab-badge.svg\" alt=\"Open In Colab\"/></a>"
      ]
    },
    {
      "cell_type": "markdown",
      "metadata": {
        "id": "hVbXYX-RfPWh"
      },
      "source": [
        "# Algoritmos de optimización - Seminario<br>\n",
        "Nombre y Apellidos: Aitor Facio Valero  <br>\n",
        "Colab: [https://colab.research.google.com/drive/1DDc16cA6rCNwBTxXEYSaCHTdQDScT6f6?usp=sharing](https://colab.research.google.com/drive/1DDc16cA6rCNwBTxXEYSaCHTdQDScT6f6?usp=sharing) <br>\n",
        "\n",
        "Url: [https://github.com/aitorfacio/03MIAR_04_B_2023-24_Algoritmos_de_Optimizacion/tree/main/SEMINARIO/Seminario_Algoritmos.ipynb](https://github.com/aitorfacio/03MIAR_04_B_2023-24_Algoritmos_de_Optimizacion/tree/main/SEMINARIO/Seminario_Algoritmos.ipynb)<br>\n",
        "Problema:\n",
        ">\n",
        ">2. Organizar los horarios de partidos de La Liga<br>\n",
        ">\n",
        "\n",
        "# Descripción del problema:(copiar enunciado)\n",
        "\n",
        "....\n",
        "\n",
        "(*) La respuesta es obligatoria\n",
        "\n",
        "\n",
        "\n",
        "\n",
        "\n",
        "                                        "
      ]
    },
    {
      "cell_type": "markdown",
      "metadata": {
        "id": "CEpSU6RrAzjS"
      },
      "source": [
        "Desde la La Liga de fútbol profesional se pretende organizar los horarios de los partidos de\n",
        "liga de cada jornada. Se conocen algunos datos que nos deben llevar a diseñar un\n",
        "algoritmo que realice la asignación de los partidos a los horarios de forma que maximice\n",
        "la audiencia.\n",
        "<br>\n",
        "• Los horarios disponibles se conocen a priori y son los siguientes:\n",
        "<ul>\n",
        "  <li>Viernes 20</li>\n",
        "  <li>Sábado 12,16,18,20</li>\n",
        "  <li>Domingo 12,16,18,20</li>\n",
        "  <li>Lunes 20</li>\n",
        "</ul>\n",
        "En primer lugar, se clasifican los equipos en tres categorías según el número de\n",
        "seguidores( que tiene relación directa con la audiencia). Hay 3 equipos en la\n",
        "categoría A, 11 equipos de categoría B y 6 equipos de categoría C.\n",
        "<br>\n",
        "• Se conoce estadísticamente la audiencia que genera cada partido según los equipos\n",
        "que se enfrentan y en horario de sábado a las 20h (el mejor en todos los casos)\n",
        "\n",
        "|  | Categoría A | Categoría B | Categoría C |\n",
        "|:--------:|:--------:|:--------:| :--------:|\n",
        "|  Categoría A   |  2 Millones   |  1,3 Millones   | 1 Millón   |\n",
        "|  Categoría B   |     |  0,9 Millones  |  0,75 Millones   |\n",
        "|  Categoría C   |   |     | 0,47 Millones   |\n",
        "\n",
        "Si el horario del partido no se realiza a las 20 horas del sábado se sabe que se reduce\n",
        "según los coeficientes de la siguiente tabla\n",
        "• Debemos asignar obligatoriamente siempre un partido el viernes y un partido el lunes\n",
        "\n",
        "| Hora | Viernes | Sábado | Domingo | Lunes |\n",
        "|:--------:|:--------:|:--------:| :--------:|:--------:|\n",
        "|  12   |  -  |  0.55  | 0.45   | - |\n",
        "|  16   |  -   |  0.7  |  0.75   | - |\n",
        "|  18   |  - | 0.8    | 0.85   | - |\n",
        "|  20   | 0.4  | 1    | 1   | 0.4|\n",
        "\n",
        "\n",
        "Es posible la coincidencia de horarios, pero en este caso la audiencia de cada partido se verá afectada y se estima que se reduce en porcentaje según la\n",
        "siguiente tabla dependiendo del número de coincidencias:\n",
        "\n",
        "| Número Partidos Coincidentes | Factor |\n",
        "|:--------:|:--------:|\n",
        "| 1 | 0 |\n",
        "| 2 | 0.25 |\n",
        "| 3 | 0.45 |\n",
        "| 4 | 0.6 |\n",
        "| 5 | 0.7 |\n",
        "| 6 | 0.75 |\n",
        "| 7 | 0.78 |\n",
        "| 8 ó + | 0.8 |\n",
        "\n"
      ]
    },
    {
      "cell_type": "code",
      "execution_count": null,
      "metadata": {
        "id": "AiskKkzZfy4e"
      },
      "outputs": [],
      "source": []
    },
    {
      "cell_type": "markdown",
      "metadata": {
        "id": "3_-exlrTgLd-"
      },
      "source": [
        "__(*)¿Cuantas posibilidades hay sin tener en cuenta las restricciones?<br>__\n",
        "\n",
        "\n",
        "\n",
        "__¿Cuantas posibilidades hay teniendo en cuenta todas las restricciones.__\n",
        "\n",
        "\n"
      ]
    },
    {
      "cell_type": "markdown",
      "metadata": {
        "id": "WfCUqJyKhPcw"
      },
      "source": [
        "Respuesta"
      ]
    },
    {
      "cell_type": "markdown",
      "metadata": {
        "id": "JIkKsyjS5uhE"
      },
      "source": [
        "El espacio de soluciones sin restricciones (siendo esta que tiene que haber un partido los Viernes y otro los Lunes ) responde a la fórmula combinatoria de Variaciones Con Repetición del conjunto de horarios disponibles, cuyo tamaño es 10. Por lo tanto, estamos ante:\n",
        "<br>\n",
        "<span style=\"align:center\">$VR_{10, 10} = 10^{10}$ </span><br>\n",
        "soluciones distintas.\n",
        "\n",
        "Si tenemos en cuenta las restricciones, por un lado tendríamos que asignar un partido obligatoriamente a los viernes y otro a los lunes. La fórmula combinatoria que nos da la cantidad de posibilidades es la de Variaciones (porque importa el orden) todos los partidos tomados de dos en dos.\n",
        "<br>\n",
        "$V_{10,2} = \\frac{{10!}}{{(10-2)!}} = \\frac{{10!}}{{8!}} = 9 · 10 = 90$\n",
        "<br>\n",
        "Ahora, para cada una de las distribuciones de partidos de viernes y lunes deberemos repartir los 8 partidos restantes entre los 10 horarios disponibles (ya que se admiten repeticiones en los horarios). Es decir, Variaciones Con Repetición (ya que importa el orden) de 10 elementos (los horarios) tomados de 8 en 8 (los partidos):\n",
        "<br>\n",
        "$VR_{10, 8} = 10^{8}$\n",
        "\n",
        "Para cada distribución de partidos entre viernes y lunes existen las $10^8$ posibilidades, por lo tanto el número total de posibilidades teniendo en cuenta las restricciones es:\n",
        "<br>\n",
        "$V_{10,2} · VR_{10,8} = 90 · 10^8 = 9 · 10^9$\n"
      ]
    },
    {
      "cell_type": "markdown",
      "metadata": {
        "id": "dzynfVJahHoY"
      },
      "source": [
        "# Modelo para el espacio de soluciones<br>\n",
        "__(*) ¿Cual es la estructura de datos que mejor se adapta al problema? Argumentalo.(Es posible que hayas elegido una al principio y veas la necesidad de cambiar, arguméntalo)__\n"
      ]
    },
    {
      "cell_type": "markdown",
      "metadata": {
        "id": "xFIJrOwKi2Ti"
      },
      "source": [
        "Respuesta\n",
        "\n",
        "He elegido como representación una lista de horarios (que serán las soluciones) que se corresponden a los partidos. De esta forma, el horario asignado al partido 1 será el valor de la lista de horarios en esa posición. La correspondencia es:\n",
        "<ul>\n",
        "  <li>0 -> Viernes 20h</li>\n",
        "  <li>1 -> Sábado 12 h</li>\n",
        "  <li>2 -> Sábado 16 h</li>\n",
        "  <li>3 -> Sábado 18 h</li>\n",
        "  <li>4 -> Sábado 20 h</li>\n",
        "  <li>5 -> Domingo 12 h</li>\n",
        "  <li>6 -> Domingo 16 h</li>\n",
        "  <li>7 -> Domingo 18 h</li>\n",
        "  <li>8 -> Domingo 20 h</li>\n",
        "  <li>9 -> Lunes 20 h</li>\n",
        "</ul>\n",
        "\n",
        "Entonces, si una solución posible es [1, 3, 4, 4, 0, 5, 7, 8, 6, 9], se interpreta como:\n",
        "<ul>\n",
        "  <li>Primer partido, Sábado a las 12h</li>\n",
        "  <li>Segundo partido, Sábado 18 h</li>\n",
        "  <li>Tercer partido, Sábado 20 h</li>\n",
        "  <li>Cuarto partido, Sábado 20 h</li>\n",
        "  <li>Quinto partido, Viernes a las 20 h</li>\n",
        "  <li>Sexto partido, Domingo a las 12 h</li>\n",
        "  <li>Séptimo partido, Domingo a las 18 h</li>\n",
        "  <li>Octavo partido, Domingo a las 20 h</li>\n",
        "  <li>Noveno partido, Domingo a las 16 h</li>\n",
        "  <li>Décimo partido, Lunes 20 h</li>\n",
        "</ul>\n",
        "\n",
        "La estructura de lista es sencilla de implementar (es un tipo del lenguaje Python), fácil de manipular y directamente trasladable a su uso con NumPy. Además, las funciones de aleatorización utilizadas más adelante aceptan en su mayoría una lista como valor de entrada."
      ]
    },
    {
      "cell_type": "markdown",
      "metadata": {
        "id": "7Z9U2W7bi-XS"
      },
      "source": [
        "# Según el modelo para el espacio de soluciones\n",
        "\n",
        "__(*)¿Cual es la función objetivo?__\n",
        "\n",
        "__(*)¿Es un problema de maximización o minimización?__"
      ]
    },
    {
      "cell_type": "markdown",
      "metadata": {
        "id": "9rmeJvAx_bUf"
      },
      "source": [
        "Respuesta<br>\n",
        "La función objetivo a **maximizar** (ya que es un **problema de maximización**) es la que calcula la audiencia total de una organización de jornada regida por las reglas expuestas en el enunciado. Esquemáticamente:\n",
        "<ol>\n",
        "  <li>Para cada partido se examinan las categorías de los dos equipos y se calcula la audiencia base de dicho partido. (Proporcionado en la tabla del enunciado)</li>\n",
        "  <li>Calcular el factor de multiplicación de esa audiencia base dependiendo del horario asignado a ese partido. Estos factores también se encuentran en el enunciado.</li>\n",
        "  <li>Para cada horario, encontrar cuántos partidos se celebran a esa hora,y si coinciden más de uno, aplicar el factor reductor de la audiencia que depende del número de partidos coincidentes. Estos factores también se encuentran en el enunciado. </li>\n",
        "</ol>"
      ]
    },
    {
      "cell_type": "markdown",
      "metadata": {
        "id": "70rDgxYXkC8r"
      },
      "source": [
        "# Funciones auxiliares"
      ]
    },
    {
      "cell_type": "markdown",
      "metadata": {
        "id": "lK9kkn6NBN6z"
      },
      "source": [
        "Primero instalamos y cargamos las librerías necesarias para la ejecución de este notebook"
      ]
    },
    {
      "cell_type": "code",
      "execution_count": 1,
      "metadata": {
        "colab": {
          "base_uri": "https://localhost:8080/"
        },
        "id": "CJb5sQ0qkENy",
        "outputId": "ad8362b3-733e-4962-ae9b-544a56ab15cc"
      },
      "outputs": [
        {
          "output_type": "stream",
          "name": "stdout",
          "text": [
            "Requirement already satisfied: numpy in /usr/local/lib/python3.10/dist-packages (1.22.4)\n",
            "Requirement already satisfied: tqdm in /usr/local/lib/python3.10/dist-packages (4.65.0)\n",
            "Requirement already satisfied: pandas in /usr/local/lib/python3.10/dist-packages (1.5.3)\n",
            "Requirement already satisfied: python-dateutil>=2.8.1 in /usr/local/lib/python3.10/dist-packages (from pandas) (2.8.2)\n",
            "Requirement already satisfied: pytz>=2020.1 in /usr/local/lib/python3.10/dist-packages (from pandas) (2022.7.1)\n",
            "Requirement already satisfied: numpy>=1.21.0 in /usr/local/lib/python3.10/dist-packages (from pandas) (1.22.4)\n",
            "Requirement already satisfied: six>=1.5 in /usr/local/lib/python3.10/dist-packages (from python-dateutil>=2.8.1->pandas) (1.16.0)\n"
          ]
        }
      ],
      "source": [
        "!pip install numpy\n",
        "!pip install tqdm\n",
        "!pip install pandas"
      ]
    },
    {
      "cell_type": "code",
      "execution_count": 2,
      "metadata": {
        "id": "dDAinij_BeX7"
      },
      "outputs": [],
      "source": [
        "import itertools\n",
        "import random\n",
        "from tqdm import tqdm\n",
        "import numpy as np\n",
        "from collections import Counter\n",
        "import pandas as pd"
      ]
    },
    {
      "cell_type": "markdown",
      "metadata": {
        "id": "NYkdeCJQBkGS"
      },
      "source": [
        "A continuación creamos una serie de estructuras necesarias para la ejecución de las implementaciones que se presentan más abajo."
      ]
    },
    {
      "cell_type": "code",
      "execution_count": 3,
      "metadata": {
        "id": "Vd1sc85dBufM"
      },
      "outputs": [],
      "source": [
        "#mapa de audiencias base según el tipo de partido\n",
        "audiencia_base_partidos = {\"AA\": 2, \"AB\": 1.3, \"AC\": 1, \"BB\": 0.9, \"BC\": .75, \"CC\": .47}\n",
        "#factor de corrección de la audiencia según el horario (ver la distribución de\n",
        "# horarios explicada antes).\n",
        "factor_horario = [0.4, 0.55, 0.7, 0.8, 1, 0.45, 0.75, 0.85, 1, 0.4]\n",
        "#factor de corrección de la audiencia según el número de partidos coincidentes\n",
        "#e.g. si coinciden 2 partidos, el factor resultante será\n",
        "# factor = 1 - factor_coincidencia[partidos_coincidentes -1]\n",
        "# La razón de restar uno es que al menos siempre habrá un partido que coincida con otro,\n",
        "# se trata del mismo partido.\n",
        "factor_coincidencia = [0, 0.25, 0.45, 0.6, 0.7, 0.75, 0.78, 0.8, 0.8]"
      ]
    },
    {
      "cell_type": "markdown",
      "metadata": {
        "id": "o0V1uXYwDOG4"
      },
      "source": [
        "Definimos ahora funciones que serán utilizadas en las implementaciones de manera interna"
      ]
    },
    {
      "cell_type": "code",
      "execution_count": 4,
      "metadata": {
        "id": "lWQpsselDNXk"
      },
      "outputs": [],
      "source": [
        "# funciones lambda de ayuda para los cálculos mediante NumPy\n",
        "calcular_factor_coincidencias = lambda x: 1 - factor_coincidencia[x - 1]\n",
        "calcular_factor_horario = lambda x: factor_horario[x]\n",
        "\n",
        "def organizar_jornada(calcular_factor_coincidencias, calcular_factor_horario,\n",
        "                      horario, jornada_base, partidos):\n",
        "    '''dada una jornada base (que ya tiene un partido viernes y otro lunes)\n",
        "    y un horario determinado representado como una lista de enteros\n",
        "    asigna a los partidos que no son base ese horario'''\n",
        "    jornada_candidata = jornada_base.copy()\n",
        "    jornada_candidata[jornada_candidata == -1] = horario\n",
        "    # evalua la jornada para calcular su audiencia\n",
        "    audiencia_total, jornada_candidata = evaluar_jornada(calcular_factor_coincidencias,\n",
        "                                                         calcular_factor_horario,\n",
        "                                                         jornada_candidata,\n",
        "                                                         partidos)\n",
        "    return audiencia_total, jornada_candidata\n",
        "\n",
        "def evaluar_jornada(calcular_factor_coincidencias, calcular_factor_horario,\n",
        "                    jornada_candidata, partidos):\n",
        "    '''Esta función es la función de coste a maximizar. Recibe como entrada las\n",
        "    funciones de cálculo de factores, la jornada candidata y los partidos'''\n",
        "    # creamos un contador que nos ayudará a saber las coincidencias en horario\n",
        "    # de los partidos\n",
        "    freq = Counter(jornada_candidata)\n",
        "    # en una fila guardamos los factores horarios de cada elemento del horario\n",
        "    factores_horarios = np.array([calcular_factor_horario(x) for x in jornada_candidata])\n",
        "    # en otra fila guardamos los factores por coincidencia horaria de cada partido\n",
        "    coincidencias = np.array([calcular_factor_coincidencias(freq[val]) for val in jornada_candidata])\n",
        "    # creamos un array de numpy con el horario, los factores y los partidos\n",
        "    jornada_candidata = np.vstack((jornada_candidata, factores_horarios, coincidencias, partidos))\n",
        "    # calculamos la audiencia total como el producto de las tres últimas filas\n",
        "    audiencia = np.prod(jornada_candidata[1:], axis=0)\n",
        "    # adjuntamos este cálculo a la tabla\n",
        "    jornada_candidata = np.vstack((jornada_candidata, audiencia))\n",
        "    # la audiencia será el total de las audiencias\n",
        "    audiencia_total = np.sum(jornada_candidata[-1])\n",
        "    return audiencia_total, jornada_candidata\n",
        "\n",
        "# Clase auxiliar para facilitar la gestión de los partidos\n",
        "class Jornada:\n",
        "    # Correspondencias de los equipos con sus categorías\n",
        "    equipos = {\n",
        "        \"Celta\": \"B\",\n",
        "        \"Real Madrid\": \"A\",\n",
        "        \"Valencia\": \"B\",\n",
        "        \"Real Sociedad\": \"A\",\n",
        "        \"Mallorca\": \"C\",\n",
        "        \"Eibar\": \"C\",\n",
        "        \"Athletic\": \"B\",\n",
        "        \"Barcelona\": \"A\",\n",
        "        \"Leganés\": \"C\",\n",
        "        \"Osasuna\": \"C\",\n",
        "        \"Villareal\": \"B\",\n",
        "        \"Granada\": \"C\",\n",
        "        \"Alavés\": \"B\",\n",
        "        \"Levante\": \"B\",\n",
        "        \"Espanyol\": \"B\",\n",
        "        \"Sevilla\": \"B\",\n",
        "        \"Betis\": \"B\",\n",
        "        \"Valladolid\": \"C\",\n",
        "        \"Atlético\": \"B\",\n",
        "        \"Getafe\": \"B\"\n",
        "    }\n",
        "\n",
        "    # representación textual de los horarios de los partidos\n",
        "    horarios = {\n",
        "        0: \"V20\",\n",
        "        1: \"S12\",\n",
        "        2: \"S16\",\n",
        "        3: \"S18\",\n",
        "        4: \"S20\",\n",
        "        5: \"D12\",\n",
        "        6: \"D16\",\n",
        "        7: \"D18\",\n",
        "        8: \"D20\",\n",
        "        9: \"L20\"}\n",
        "\n",
        "    @classmethod\n",
        "    def generar_jornada(cls):\n",
        "        '''Función que dado genera una jornada aleatoria de partidos'''\n",
        "        equipos_restantes = list(Jornada.equipos.keys()).copy()\n",
        "        #reordenamos los equipos de manera aleatoria\n",
        "        random.shuffle(equipos_restantes)\n",
        "        #los emparejamos en una lista de manera que cada tupla es un partido\n",
        "        partidos = list(zip(equipos_restantes[::2], equipos_restantes[1::2]))\n",
        "        jornada = cls(partidos)\n",
        "        return jornada\n",
        "\n",
        "    def __init__(self, partidos):\n",
        "        ''' crea una jornada a partir de una lista de partidos'''\n",
        "        self.partidos = partidos\n",
        "\n",
        "    def as_categories(self):\n",
        "        '''devuelve una lista representando cada partido como una cadena con las categorías de los dos equipos'''\n",
        "        partido_as_categoria = lambda x:\"\".join(sorted([Jornada.equipos[x[0]], Jornada.equipos[x[1]]]))\n",
        "        return [partido_as_categoria(x) for x in self.partidos]\n",
        "\n",
        "    def as_audiencias(self):\n",
        "        '''devuelve una lista representando cada partido como el valor de su audiencia base'''\n",
        "        return [audiencia_base_partidos[x] for x in self.as_categories()]\n",
        "\n",
        "    def __str__(self):\n",
        "        return \"\\n \".join([\" - \".join([a,b]) for (a,b) in self.partidos])\n",
        "\n",
        "    def __repr__(self):\n",
        "        return str(self)\n",
        "\n",
        "    def print_jornada(self, horarios_jornada):\n",
        "        '''imprime una tabla resumen de la jornada organizada'''\n",
        "        resumen_jornada = evaluar_jornada(calcular_factor_coincidencias,\n",
        "                                          calcular_factor_horario, horarios_jornada, self.as_audiencias())\n",
        "        names = [\"Horario\", \"Factor Horario\", \"Factor Coincidencias\", \"Audiencia Base\", \"Audiencia Total\"]\n",
        "        df = pd.DataFrame(np.transpose(resumen_jornada[1]), columns=names)\n",
        "        df['Horario'] = df['Horario'].replace(Jornada.horarios)\n",
        "        df.insert(0, 'Partido', self.partidos)\n",
        "\n",
        "        print(df.to_string())\n",
        "        print(f\"Audiencia Total: {resumen_jornada[0]} millones de espectadores\")"
      ]
    },
    {
      "cell_type": "markdown",
      "metadata": {
        "id": "rlnTYgY1j6I2"
      },
      "source": [
        "# Diseña un algoritmo para resolver el problema por fuerza bruta"
      ]
    },
    {
      "cell_type": "markdown",
      "metadata": {
        "id": "9eUd3xwckP68"
      },
      "source": [
        "Respuesta"
      ]
    },
    {
      "cell_type": "markdown",
      "metadata": {
        "id": "VOenIG1QGHcb"
      },
      "source": [
        "La solución por fuerza bruta nos obliga a examinar **todas** las posibles soluciones y comparar las audiencias para encontrar de esta manera la solución óptima. No obstante, el problema tiene un tamaño de $9 · 10^9$ soluciones, lo que le hace intratable si quermos realizar una ejecución en tiempo razonable. (Una prueba de ejecución requirió casi 15 horas en mi equipo personal, Apple M1 Max con 32GB de RAM). Por lo tanto, se presenta el código pero no se ejecuta ya que el entorno de Colab no va a permitir una ejecución que lleve tanto tiempo."
      ]
    },
    {
      "cell_type": "code",
      "execution_count": 5,
      "metadata": {
        "id": "c94N1EpEG0ei"
      },
      "outputs": [],
      "source": [
        "def jornada_fuerza_bruta(partidos):\n",
        "    '''Función que explora todo el espacio de soluciones posible. Como entrada requiere una representación de una lista de las audiencias bases de cada partido'''\n",
        "    max_audiencia = 0\n",
        "    mejor_jornada = 0\n",
        "\n",
        "    # para cada una de las posibilidades de organizar al menos un partido viernes\n",
        "    #y lunes\n",
        "    for viernes, lunes in itertools.permutations(range(len(partidos)), 2):\n",
        "        # creamos una jornada base\n",
        "        # se inician todos los horarios a -1 (no asignado)\n",
        "        jornada_base = [-1] * len(partidos)\n",
        "        jornada_base = np.array(jornada_base)\n",
        "        # al partido del viernes le asignamos un 0, al del lunes un 9\n",
        "        jornada_base[viernes] = 0\n",
        "        jornada_base[lunes] = 9\n",
        "\n",
        "        # para cada una de las 10^8 posibilidades de ordenación de los horarios\n",
        "        # para el resto de partidos\n",
        "        for horario in itertools.product(range(len(partidos)), repeat=len(partidos)-2):\n",
        "            # creamos una jornada y estimamos su audiencia\n",
        "            audiencia_total, jornada_candidata = organizar_jornada(calcular_factor_coincidencias,\n",
        "                                                                   calcular_factor_horario, horario, jornada_base,\n",
        "                                                                   partidos)\n",
        "            # si la audiencia es mayor que la máxima vista hasta ahora\n",
        "            # la tomamos como la máxima audiencia\n",
        "            if audiencia_total > max_audiencia:\n",
        "                max_audiencia = audiencia_total\n",
        "                mejor_jornada = jornada_candidata\n",
        "\n",
        "    return max_audiencia, mejor_jornada"
      ]
    },
    {
      "cell_type": "markdown",
      "metadata": {
        "id": "tgrnsC2nkFa8"
      },
      "source": [
        "# Calcula la complejidad del algoritmo por fuerza bruta\n",
        "<br>\n",
        "Respuesta\n",
        "<br>\n",
        "La complejidad del bucle interior es $10^{(n-2)}$ siendo n el número de partidos. Este bucle se repite $\\frac{{n!}}{{n-2!}} = n·(n-1)$. Por lo tanto, la complejidad de esta implementación es: <br>\n",
        "$T(n) = n·(n-1)·10^{(n-2)}$, es decir, estamos ante una implementación de orden exponencial."
      ]
    },
    {
      "cell_type": "markdown",
      "metadata": {
        "id": "txbrmLmskReM"
      },
      "source": [
        "# (*)Diseña un algoritmo que mejore la complejidad del algortimo por fuerza bruta. Argumenta porque crees que mejora el algoritmo por fuerza bruta"
      ]
    },
    {
      "cell_type": "markdown",
      "metadata": {
        "id": "hLrVwt5QkZPD"
      },
      "source": [
        "Respuesta"
      ]
    },
    {
      "cell_type": "markdown",
      "metadata": {
        "id": "cOr9BUvzJ4-f"
      },
      "source": [
        "Debido a la intratabilidad del problema por fuerza bruta (especialmente si el número de equipos crece), he decidido utilizar técnicas heurísticas. Concretamente, presento una implementación de la solución mediante un algoritmo genético. Presenta la no optimalidad característica de las técnicas heurísticas, pero es sencillo de implementar, muy rápido y las soluciones que ofrecen son de calidad. Por ejemplo, si calculamos la siguiente jornada preparada para intentar maximizar a mano la audiencia con los mejores partidos :\n",
        "<ul>\n",
        "  <li> Partido \"AA\" audiencia base 2, Sábado a las 20h (factor horario x1)</li>\n",
        "  <li> Partido \"AB\" audiencia base 1,3 , Domingo a las 20 h (factor horario x1)</li>\n",
        "  <li> 5 Partidos \"BB\", audiencia base 0,9, Horarios Sábado 12h, Sábado 16h, Sábado 18h, Domingo 16h, Domingo 18h (factores horarios x0,55, x0,7, x0,8, x0,75, x0,85)</li>\n",
        "  <li> 3 Partidos \"CC\", audiencia base 0,47, Horarios Viernes 20h, Lunes 20h, Domingo 12h (factores horarios x0,4, x0,4, x0,45)</li>\n",
        "</ul>\n",
        "\n",
        "Podemos calcular una audiencia de 7,1725 aplicando los factores.\n",
        "<br>\n",
        "La implementación que presento se acerca muchas veces a esa cifra y se ejecuta en segundos, comparado con la intratabilidad de la solución exponencial de fuerza bruta."
      ]
    },
    {
      "cell_type": "markdown",
      "metadata": {
        "id": "Hlba9ditN-2b"
      },
      "source": [
        "Primero presentamos funciones utilizadas en la implementación genética de la solución"
      ]
    },
    {
      "cell_type": "code",
      "execution_count": 6,
      "metadata": {
        "id": "m1eyM21Vkabg"
      },
      "outputs": [],
      "source": [
        "def es_factible(sujeto):\n",
        "    '''Función que nos dice si un sujeto es solución válida o no.\n",
        "    En nuestro caso requiere que haya un partido los viernes y otro los lunes'''\n",
        "    algun_partido_viernes = sujeto == 0\n",
        "    algun_partido_lunes = sujeto == 9\n",
        "\n",
        "    return np.any(algun_partido_viernes) and np.any(algun_partido_lunes)\n",
        "\n",
        "def generar_jornada_aleatoria():\n",
        "    '''Función que genera una jornada aleatoria válida. Utilizada para crear\n",
        "    la población inicial\n",
        "    '''\n",
        "    jornada = np.array([-1] * 10)\n",
        "    # seleccionar los partidos de viernes y lunes\n",
        "    viernes, lunes = random.choice(generar_jornada_aleatoria.partidos_viernes_lunes)\n",
        "    jornada[viernes] = 0\n",
        "    jornada[lunes] = 9\n",
        "    # generar una distribución de horarios aleatoria para el resto de partidos\n",
        "    jornada[jornada == -1] = [random.randrange(10) for x in range(10-2)]\n",
        "    return jornada\n",
        "\n",
        "# esta variable \"estática\" se asocia a la función para solo tener\n",
        "# que crearla una vez\n",
        "# lista con todas las posibles parejas que se pueden adjudicar a viernes y lunes\n",
        "generar_jornada_aleatoria.partidos_viernes_lunes = list(itertools.permutations(range(9), 2))"
      ]
    },
    {
      "cell_type": "markdown",
      "metadata": {
        "id": "o5y4qE-YRGJQ"
      },
      "source": [
        "Operadores de Selección de Padres para el algoritmo genético. Fuente:  [Wikipedia](https://es.wikipedia.org/wiki/Selecci%C3%B3n_(computaci%C3%B3n_evolutiva))\n"
      ]
    },
    {
      "cell_type": "code",
      "execution_count": 7,
      "metadata": {
        "id": "LRKCKlwQRMia"
      },
      "outputs": [],
      "source": [
        "def seleccion_torneo(poblacion, evaluaciones):\n",
        "    '''Selección por torneo. Se eligen parejas aleatorias de padres y se\n",
        "    selecciona al que mejor evaluación tenga de los dos para poder reproducirse'''\n",
        "    indices = list(range(len(poblacion)))\n",
        "    # ordenación aleatoria de los índices de la lista de poblaciones\n",
        "    random.shuffle(indices)\n",
        "    # crear el torneo (es decir, un listado de parejas de padres)\n",
        "    torneo = [(indices[i], indices[i+1]) for i in range(0, len(indices)-1, 2)]\n",
        "    # función lambda que realiza el torneo en una pareja de candidatos a padre\n",
        "    torneo_evaluacion = lambda x: poblacion[x[0]] if evaluaciones[x[0]] > evaluaciones[x[1]] else poblacion[1]\n",
        "    # devolvemos a los ganadores del torneo\n",
        "    return [torneo_evaluacion(x) for x in torneo]\n",
        "\n",
        "\n",
        "def seleccion_ranking(poblacion, evaluaciones):\n",
        "    '''Selección por ranking. Nos quedamos con la mitad de los padres que\n",
        "    tienen las mejores evaluaciones de la población.'''\n",
        "    return poblacion[np.argsort(-evaluaciones)[:len(poblacion)//2]]\n",
        "\n",
        "def seleccion(poblacion, evaluaciones, funcion_seleccion=seleccion_ranking):\n",
        "    '''Función que realiza la selección con el operador de selección elegido'''\n",
        "    assert(len(poblacion) % 2 == 0)\n",
        "    seleccionados = funcion_seleccion(poblacion, evaluaciones)\n",
        "    return seleccionados"
      ]
    },
    {
      "cell_type": "markdown",
      "metadata": {
        "id": "dpWkfPjxSoRt"
      },
      "source": [
        "Operadores de cruce para el Algoritmo Genético. Fuente: [Wikipedia](https://es.wikipedia.org/wiki/Recombinaci%C3%B3n_(computaci%C3%B3n_evolutiva)) Para conservar la población cada cruce producirá 4 hijos."
      ]
    },
    {
      "cell_type": "code",
      "execution_count": 8,
      "metadata": {
        "id": "lZNpJIBhS8Os"
      },
      "outputs": [],
      "source": [
        "def cruce_uniforme(x, y, n_hijos=4):\n",
        "    '''Cruce Uniforme. El hijo es el resultado de la selección aleatoria\n",
        "     gen por gen de uno de los dos padres'''\n",
        "    return [[padre[i] for (i, padre) in [(gen, random.choice([x, y])) for gen in range(10)]]] * n_hijos\n",
        "\n",
        "\n",
        "def cruce_un_punto(x,y, n_hijos=4):\n",
        "    '''Cruce en un punto. Se selecciona un punto. Desde el principio hasta ese\n",
        "    punto, los genes del hijo serán los del primer padre. Desde el punto\n",
        "    hasta el final, los genes serán los del segundo padre.'''\n",
        "    descendencia = []\n",
        "    for _ in range(n_hijos):\n",
        "        punto = random.randint(0, 9)\n",
        "        hijo = np.concatenate((x[:punto], y[punto:]))\n",
        "        descendencia.append(hijo)\n",
        "    return descendencia\n",
        "\n",
        "\n",
        "def cruce_dos_puntos(x, y, n_hijos=4):\n",
        "    '''Cruce de dos puntos. Se seleccionan dos puntos para \"cortar\" el genoma\n",
        "    de los padres de dos maneras distintas. Cada uno de esos cortes y posterior\n",
        "    combinación dará lugar a un hijo de los padres'''\n",
        "    descendencia = []\n",
        "    for _ in range(n_hijos//2):\n",
        "        indices = list(range(9))\n",
        "        random.shuffle(indices)\n",
        "        punto_1, punto_2 = min(indices[:2]), max(indices[:2])\n",
        "        hijo_1 = np.concatenate((x[:punto_1], y[punto_1:punto_2], x[punto_2:]))\n",
        "        hijo_2 = np.concatenate((y[:punto_1], x[punto_1:punto_2], y[punto_2:]))\n",
        "        descendencia.append(hijo_1)\n",
        "        descendencia.append(hijo_2)\n",
        "    return descendencia\n",
        "\n",
        "def cruzar(padres, funcion_cruce=cruce_dos_puntos):\n",
        "    '''Función que cruza a parejas de padres usando\n",
        "    el operador de cruce seleccionado'''\n",
        "    descendencia = [funcion_cruce(padres[i], padres[i+1]) for i in range(0, len(padres), 2)]\n",
        "    descendencia = [item for  sublist in descendencia for item in sublist]\n",
        "    return np.array(descendencia)"
      ]
    },
    {
      "cell_type": "markdown",
      "metadata": {
        "id": "4cm0J39EUHn-"
      },
      "source": [
        "Operadores de Mutación para el Algoritmo Genético. Fuente: [Wikipedia](https://es.wikipedia.org/wiki/Mutaci%C3%B3n_(computaci%C3%B3n_evolutiva))"
      ]
    },
    {
      "cell_type": "code",
      "execution_count": 9,
      "metadata": {
        "id": "VeWa9zs9UOLu"
      },
      "outputs": [],
      "source": [
        "def mutacion_invididuo_aleatoria(sujeto):\n",
        "    '''Muta un gen de manera aleatoria en el sujeto'''\n",
        "    gen_mutado = random.choice(list(range(len(sujeto))))\n",
        "    alelo_mutado = random.choice(list(range(10)))\n",
        "    sujeto[gen_mutado] = alelo_mutado\n",
        "    return sujeto\n",
        "\n",
        "def mutacion_por_permutaciones(sujeto):\n",
        "    '''Mutación por permutaciones. Intercambia dos genes aleatorios en el sujeto\n",
        "    '''\n",
        "    indices = list(range(len(sujeto)))\n",
        "    random.shuffle(indices)\n",
        "    gen1, gen2 = indices[:2]\n",
        "    sujeto[gen1], sujeto[gen2] = sujeto[gen2], sujeto[gen1]\n",
        "    return sujeto\n",
        "\n",
        "def mutar(poblacion, funcion_mutacion=mutacion_por_permutaciones):\n",
        "    '''Muta una población completa usando el operador de mutación individual\n",
        "    seleccionado.'''\n",
        "    mutantes = np.apply_along_axis(funcion_mutacion, 0, poblacion)\n",
        "    return mutantes"
      ]
    },
    {
      "cell_type": "markdown",
      "metadata": {
        "id": "gCMoDfzYVXkN"
      },
      "source": [
        "A continuación introduzco operadores de reparación. En un principio no tuve en cuenta que las mutaciones probablemente producirían individuos no aptos (es decir, que no eran solución al problema - no tenían un partido viernes y otro lunes como mínimo). Tras leer [este artículo](https://www.researchgate.net/publication/229149949_GeneRepair_-_A_Repair_Operator_for_Genetic_Algorithms) introduje una operación adicional en los pasos del algoritmo, la reparación de la población para hacerla apta."
      ]
    },
    {
      "cell_type": "code",
      "execution_count": 10,
      "metadata": {
        "id": "dw4odkAVV0tR"
      },
      "outputs": [],
      "source": [
        "def reparacion_aleatoria(sujeto):\n",
        "    '''Repara a individuos no aptos colocando\n",
        "    un partido aleatorio el viernes (si no lo hubiera ya)\n",
        "    y un partido aleatorio el lunes (si no lo hubiera ya)\n",
        "    '''\n",
        "    if not es_factible(sujeto):\n",
        "        indices = list(range(len(sujeto)))\n",
        "        random.shuffle(indices)\n",
        "        if not 0 in sujeto:\n",
        "            gen_reparado_viernes = indices[0]\n",
        "            sujeto[gen_reparado_viernes] = 0\n",
        "        if not 9 in sujeto:\n",
        "            gen_reparado_lunes = indices[1]\n",
        "            sujeto[gen_reparado_lunes] = 9\n",
        "\n",
        "    return sujeto\n",
        "\n",
        "def reparar(poblacion):\n",
        "    '''Repara la población con el operador de reparación individual'''\n",
        "    np.apply_along_axis(reparacion_aleatoria, axis=1, arr=poblacion)\n",
        "    return poblacion"
      ]
    },
    {
      "cell_type": "markdown",
      "metadata": {
        "id": "_9dPjZsnXZb8"
      },
      "source": [
        "Por último, tras definir todas las funciones necesarias, presento a continuación la implementación del algoritmo genético para la distribución de partidos en una jornada de fútbol."
      ]
    },
    {
      "cell_type": "code",
      "execution_count": 11,
      "metadata": {
        "id": "Sion66b6XjdN"
      },
      "outputs": [],
      "source": [
        "def jornada_futbol_algoritmo_genetico(partidos, iteraciones=100, tam_poblacion_inicial=1000):\n",
        "    # generar una población aleatoria inicial\n",
        "    poblacion = np.array([generar_jornada_aleatoria() for x in range(tam_poblacion_inicial)])\n",
        "    for i in tqdm(range(iteraciones)):\n",
        "        # en cada paso calculamos las evaluaciones (la audiencia) de cada individuo\n",
        "        # que es la función que pretendemos maximizar.\n",
        "        evaluaciones = np.array([evaluar_jornada(calcular_factor_coincidencias, calcular_factor_horario, x, partidos)[0]\n",
        "                             for x in poblacion])\n",
        "        # seleccionamos los padres usando las evaluaciones (audiencias)\n",
        "        padres = seleccion(poblacion, evaluaciones)\n",
        "        # los padres se reproducen\n",
        "        hijos = cruzar(padres)\n",
        "        # los hijos mutan y se convierten en la nueva población\n",
        "        poblacion = mutar(hijos)\n",
        "        # la población debe ser reparada para ser apta para la siguiente iteración\n",
        "        poblacion = reparar(poblacion)\n",
        "\n",
        "    # una vez terminadas todas las generaciones, evaluamos a la población final\n",
        "    evaluaciones = np.array([evaluar_jornada(calcular_factor_coincidencias, calcular_factor_horario, x, partidos)[0]\n",
        "                             for x in poblacion])\n",
        "    # elegimos al mejor individuo de la población final, que será la respuesta\n",
        "    audiencia, jornada = evaluaciones.max(), poblacion[evaluaciones.argmax()]\n",
        "    return audiencia, jornada"
      ]
    },
    {
      "cell_type": "markdown",
      "metadata": {
        "id": "4_1QWRxOo0-H"
      },
      "source": [
        "A continuación se muestra el resultado de aplicar esta implementación al problema de ejemplo (la jornada del enunciado)"
      ]
    },
    {
      "cell_type": "code",
      "execution_count": 12,
      "metadata": {
        "colab": {
          "base_uri": "https://localhost:8080/"
        },
        "id": "lqKH1LA-o0-H",
        "outputId": "679c9b1b-f304-4c0e-e384-244390e40b74"
      },
      "outputs": [
        {
          "output_type": "stream",
          "name": "stdout",
          "text": [
            "Celta - Real Madrid\n",
            " Valencia - Real Sociedad\n",
            " Mallorca - Eibar\n",
            " Athletic - Barcelona\n",
            " Leganés - Osasuna\n",
            " Villareal - Granada\n",
            " Alavés - Levante\n",
            " Espanyol - Sevilla\n",
            " Betis - Valladolid\n",
            " Atlético - Getafe\n"
          ]
        }
      ],
      "source": [
        "jornada_ejemplo = Jornada([\n",
        "    (\"Celta\", \"Real Madrid\"),\n",
        "    (\"Valencia\", \"Real Sociedad\"),\n",
        "    (\"Mallorca\", \"Eibar\"),\n",
        "    (\"Athletic\", \"Barcelona\"),\n",
        "    (\"Leganés\", \"Osasuna\"),\n",
        "    (\"Villareal\", \"Granada\"),\n",
        "    (\"Alavés\", \"Levante\"),\n",
        "    (\"Espanyol\", \"Sevilla\"),\n",
        "    (\"Betis\", \"Valladolid\"),\n",
        "    (\"Atlético\", \"Getafe\")\n",
        "]\n",
        ")\n",
        "print(jornada_ejemplo)"
      ]
    },
    {
      "cell_type": "code",
      "execution_count": 13,
      "metadata": {
        "scrolled": true,
        "colab": {
          "base_uri": "https://localhost:8080/"
        },
        "id": "BCpMRD5do0-H",
        "outputId": "0f746e95-d278-4a12-aadd-aa718c8aa49f"
      },
      "outputs": [
        {
          "output_type": "stream",
          "name": "stderr",
          "text": [
            "100%|██████████| 100/100 [00:07<00:00, 12.87it/s]\n"
          ]
        },
        {
          "output_type": "stream",
          "name": "stdout",
          "text": [
            "                     Partido Horario  Factor Horario  Factor Coincidencias  Audiencia Base  Audiencia Total\n",
            "0       (Celta, Real Madrid)     D20            1.00                   1.0            1.30           1.3000\n",
            "1  (Valencia, Real Sociedad)     D18            0.85                   1.0            1.30           1.1050\n",
            "2          (Mallorca, Eibar)     D12            0.45                   1.0            0.47           0.2115\n",
            "3      (Athletic, Barcelona)     D16            0.75                   1.0            1.30           0.9750\n",
            "4         (Leganés, Osasuna)     V20            0.40                   1.0            0.47           0.1880\n",
            "5       (Villareal, Granada)     L20            0.40                   1.0            0.75           0.3000\n",
            "6          (Alavés, Levante)     S20            1.00                   1.0            0.90           0.9000\n",
            "7        (Espanyol, Sevilla)     S18            0.80                   1.0            0.90           0.7200\n",
            "8        (Betis, Valladolid)     S16            0.70                   1.0            0.75           0.5250\n",
            "9         (Atlético, Getafe)     S12            0.55                   1.0            0.90           0.4950\n",
            "Audiencia Total: 6.719500000000001 millones de espectadores\n"
          ]
        }
      ],
      "source": [
        "audiencia, horarios_jornada = jornada_futbol_algoritmo_genetico(jornada_ejemplo.as_audiencias())\n",
        "jornada_ejemplo.print_jornada(horarios_jornada)"
      ]
    },
    {
      "cell_type": "markdown",
      "metadata": {
        "id": "eGDB4K6uk1iN"
      },
      "source": [
        "# (*)Calcula la complejidad del algoritmo"
      ]
    },
    {
      "cell_type": "markdown",
      "metadata": {
        "id": "NhpTh_BPk1ms"
      },
      "source": [
        "Respuesta"
      ]
    },
    {
      "cell_type": "markdown",
      "metadata": {
        "id": "H9RDgp9QZQm6"
      },
      "source": [
        "Para calcular la complejidad es necesario conocer la de cada uno de los operadores.\n",
        "<br>\n",
        "<ol>\n",
        "  <li> El operador de selección (selección por ranking por defecto) realiza una ordenación (NumPy usa por defecto *quicksort* que tiene una complejidad $O(p · log(p))$ con p el tamaño de la población.</li>\n",
        "  <li> El operador de cruce selecciona puntos de corte y crea hijos. La generación de valores aleatorios es de orden constante. Para crear los n hijo necesita $O(n·m)$ siendo n el número de hijos (4) y m el tamaño del individuo(10). </li>\n",
        "  <li>El operador de mutaciones por permutaciones es de orden lineal (solo se trata de un intercambio de genes).\n",
        "  </li>\n",
        "</ol>\n",
        "Dado que las operaciones de selección, cruce, mutación y reparación se aplican a la población p, podemos decir que la complejidad es $O(p · (log(p) + n·m))$, siendo p el tamaño de la población, n el número de hijos en cada cruce y m el tamaño de cada individuo.\n",
        "\n",
        "Estos cálculos se ejecutan un número *i* de iteraciones, por lo que la complejidad final será de\n",
        "$O(i · p · (log(p) + n·m))$\n",
        "\n",
        "Teniendo en cuenta que en este problema el tamaño de la población tenderá a ser mucho mayor que los otros parámetros, podemos modelar el orden como un orden casi lineal con una constante multiplicativa *i* (el número de iteraciones."
      ]
    },
    {
      "cell_type": "markdown",
      "metadata": {
        "id": "3M6QjTsSkmYe"
      },
      "source": [
        "Según el problema (y tenga sentido), diseña un juego de datos de entrada aleatorios"
      ]
    },
    {
      "cell_type": "markdown",
      "metadata": {
        "id": "Jc3_OlyNkvjZ"
      },
      "source": [
        "Respuesta"
      ]
    },
    {
      "cell_type": "code",
      "execution_count": null,
      "metadata": {
        "colab": {
          "base_uri": "https://localhost:8080/"
        },
        "id": "sJ-N2etjkyWc",
        "outputId": "63c4d786-c9ef-4da1-bf4d-02377f2065f3"
      },
      "outputs": [
        {
          "name": "stdout",
          "output_type": "stream",
          "text": [
            "Barcelona - Valencia\n",
            " Getafe - Mallorca\n",
            " Leganés - Athletic\n",
            " Osasuna - Granada\n",
            " Sevilla - Valladolid\n",
            " Villareal - Atlético\n",
            " Celta - Alavés\n",
            " Levante - Betis\n",
            " Eibar - Espanyol\n",
            " Real Madrid - Real Sociedad\n"
          ]
        }
      ],
      "source": [
        "jornada_aleatoria = Jornada.generar_jornada()\n",
        "print(jornada_aleatoria)"
      ]
    },
    {
      "cell_type": "markdown",
      "metadata": {
        "id": "zy5ZROmjlGo1"
      },
      "source": [
        "Aplica el algoritmo al juego de datos generado"
      ]
    },
    {
      "cell_type": "markdown",
      "metadata": {
        "id": "_Cmj-PVylMsa"
      },
      "source": [
        "Respuesta"
      ]
    },
    {
      "cell_type": "code",
      "execution_count": null,
      "metadata": {
        "colab": {
          "base_uri": "https://localhost:8080/"
        },
        "id": "Jkx8GeiYlUz1",
        "outputId": "f1e6bae6-b78d-4d99-8cf7-c0339a401a95"
      },
      "outputs": [
        {
          "name": "stderr",
          "output_type": "stream",
          "text": [
            "100%|██████████████████████████████████████████████████████████████████████████████████| 100/100 [00:02<00:00, 34.51it/s]"
          ]
        },
        {
          "name": "stdout",
          "output_type": "stream",
          "text": [
            "                        Partido Horario  Factor Horario  Factor Coincidencias  Audiencia Base  Audiencia Total\n",
            "0         (Barcelona, Valencia)     D20            1.00                   1.0            1.30           1.3000\n",
            "1            (Getafe, Mallorca)     V20            0.40                   1.0            0.75           0.3000\n",
            "2           (Leganés, Athletic)     D16            0.75                   1.0            0.75           0.5625\n",
            "3            (Osasuna, Granada)     S12            0.55                   1.0            0.47           0.2585\n",
            "4         (Sevilla, Valladolid)     D12            0.45                   1.0            0.75           0.3375\n",
            "5         (Villareal, Atlético)     S18            0.80                   1.0            0.90           0.7200\n",
            "6               (Celta, Alavés)     S16            0.70                   1.0            0.90           0.6300\n",
            "7              (Levante, Betis)     D18            0.85                   1.0            0.90           0.7650\n",
            "8             (Eibar, Espanyol)     L20            0.40                   1.0            0.75           0.3000\n",
            "9  (Real Madrid, Real Sociedad)     S20            1.00                   1.0            2.00           2.0000\n",
            "Audiencia Total: 7.1735 millones de espectadores\n"
          ]
        },
        {
          "name": "stderr",
          "output_type": "stream",
          "text": [
            "\n"
          ]
        }
      ],
      "source": [
        "audiencia_aleatoria, horarios_jornada_aleatoria = jornada_futbol_algoritmo_genetico(jornada_aleatoria.as_audiencias())\n",
        "jornada_aleatoria.print_jornada(horarios_jornada_aleatoria)"
      ]
    },
    {
      "cell_type": "markdown",
      "metadata": {
        "id": "eTFWUJQrtGcv"
      },
      "source": [
        "# Enumera las referencias que has utilizado(si ha sido necesario) para llevar a cabo el trabajo"
      ]
    },
    {
      "cell_type": "markdown",
      "metadata": {
        "id": "YKQ_mRBttWsP"
      },
      "source": [
        "Respuesta"
      ]
    },
    {
      "cell_type": "markdown",
      "metadata": {
        "id": "l7B9kEpkemKO"
      },
      "source": [
        "Las he ido incluyendo en el Notebook a medida que las he utilizado para facilitar su consulta en el contexto en el que las he usado."
      ]
    },
    {
      "cell_type": "markdown",
      "metadata": {
        "id": "kAkDPUyRtYyH"
      },
      "source": [
        "# Describe brevemente las lineas de como crees que es posible avanzar en el estudio del problema. Ten en cuenta incluso posibles variaciones del problema y/o variaciones al alza del tamaño"
      ]
    },
    {
      "cell_type": "markdown",
      "metadata": {
        "id": "IE0uZmo-tZu-"
      },
      "source": [
        "Respuesta"
      ]
    },
    {
      "cell_type": "markdown",
      "metadata": {
        "id": "nrVl_4Hrex1U"
      },
      "source": [
        "Es probable que existan métodos de selección de los padres más efectivos y sobre todo, que conservar a ciertos padres óptimos pudiera tener efectos positivos en el algoritmo.\n",
        "\n",
        "También implementar algún tipo de selección por ruleta, en el que se le de alguna oportunidad (aunque mínima) a sujetos con peor evaluación pudiera dar lugar a una menor endogamia que, quizá, diera lugar a una mayor variabilidad en la descendencia y soluciones peores podrían evolucionar hacia mejores y así mejorar la población.\n",
        "\n",
        "La complejidad aumentaría si por ejemplo las restricciones fueran más extensas o si la jornada de fútbol tuviera más horarios. ¿Qué pasaría si existieran horarios que solo se solaparan en parte (e.g., partidos a las 17h y a las 18h)? ¿Y si la duración de los partidos fuera dinámica (porque tuvieran prórroga)? ¿Se podrían introducir factores que incrementaran el índice de audiencia aunque fuera de dos equipos C (por ejemplo, si se están jugando el descenso) o que un partido de dos equipos A no tenga interés porque ya los dos tienen su lugar en la tabla decidido debido a la trayectoria en el campeonato? ¿Podríamos encontrar audiencias mucho mayores si relajáramos las restricciones, por ejemplo, un partido viernes O lunes? ¿Serían tan buenas esas audiencias mejoradas como para desplazar los partidos?\n",
        "\n",
        "Quizá se podrían realizar distintas ejecuciones cambiando los operadores para obtener un pool de soluciones y de ahí buscar la más óptima.\n"
      ]
    }
  ],
  "metadata": {
    "colab": {
      "provenance": [],
      "include_colab_link": true
    },
    "kernelspec": {
      "display_name": "Python 3 (ipykernel)",
      "language": "python",
      "name": "python3"
    },
    "language_info": {
      "codemirror_mode": {
        "name": "ipython",
        "version": 3
      },
      "file_extension": ".py",
      "mimetype": "text/x-python",
      "name": "python",
      "nbconvert_exporter": "python",
      "pygments_lexer": "ipython3",
      "version": "3.10.11"
    }
  },
  "nbformat": 4,
  "nbformat_minor": 0
}