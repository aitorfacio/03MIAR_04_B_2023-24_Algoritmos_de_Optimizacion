{
  "nbformat": 4,
  "nbformat_minor": 0,
  "metadata": {
    "colab": {
      "provenance": [],
      "include_colab_link": true
    },
    "kernelspec": {
      "name": "python3",
      "display_name": "Python 3"
    }
  },
  "cells": [
    {
      "cell_type": "markdown",
      "metadata": {
        "id": "view-in-github",
        "colab_type": "text"
      },
      "source": [
        "<a href=\"https://colab.research.google.com/github/aitorfacio/03MIAR_04_B_2023-24_Algoritmos_de_Optimizacion/blob/main/SEMINARIO/Seminario_Algoritmos.ipynb\" target=\"_parent\"><img src=\"https://colab.research.google.com/assets/colab-badge.svg\" alt=\"Open In Colab\"/></a>"
      ]
    },
    {
      "cell_type": "markdown",
      "metadata": {
        "id": "hVbXYX-RfPWh"
      },
      "source": [
        "# Algoritmos de optimización - Seminario<br>\n",
        "Nombre y Apellidos: Aitor Facio Valero  <br>\n",
        "Url: https://github.com/aitorfacio/03MIAR_04_B_2023-24_Algoritmos_de_Optimizacion/tree/main/SEMINARIO<br>\n",
        "Problema:\n",
        "> 1. Sesiones de doblaje <br>\n",
        ">2. Organizar los horarios de partidos de La Liga<br>\n",
        ">3. Combinar cifras y operaciones\n",
        "\n",
        "Descripción del problema:(copiar enunciado)\n",
        "\n",
        "....\n",
        "\n",
        "(*) La respuesta es obligatoria\n",
        "\n",
        "\n",
        "\n",
        "\n",
        "\n",
        "                                        "
      ]
    },
    {
      "cell_type": "markdown",
      "source": [
        "Desde la La Liga de fútbol profesional se pretende organizar los horarios de los partidos de\n",
        "liga de cada jornada. Se conocen algunos datos que nos deben llevar a diseñar un\n",
        "algoritmo que realice la asignación de los partidos a los horarios de forma que maximice\n",
        "la audiencia.\n",
        "• Los horarios disponibles se conocen a priori y son los siguientes:\n",
        "Viernes 20\n",
        "Sábado 12,16,18,20\n",
        "Domingo 12,16,18,20\n",
        "Lunes 20\n",
        "En primer lugar, se clasifican los equipos en tres categorías según el número de\n",
        "seguidores( que tiene relación directa con la audiencia). Hay 3 equipos en la\n",
        "categoría A, 11 equipos de categoría B y 6 equipos de categoría C.\n",
        "• Se conoce estadísticamente la audiencia que genera cada partido según los equipos\n",
        "que se enfrentan y en horario de sábado a las 20h (el mejor en todos los casos)\n",
        "Categoría A Categoría B Categoría C\n",
        "Categoría A Categoría B Categoría C\n",
        "Categoría A 2 Millones 1,3 Millones 1 Millones\n",
        "Categoría B 0.9 Millones 0.75 Millones\n",
        "Si el horario del partido no se realiza a las 20 horas del sábado se sabe que se reduce\n",
        "según los coeficientes de la siguiente tabla\n",
        "• Debemos asignar obligatoriamente siempre un partido el viernes y un partido el lunes\n",
        "      Viernes Sábado Domingo Lunes\n",
        "12h      -     0.55 0.45       -\n",
        "16h      -      0.7 0.75       -\n",
        "18h      -      0.8 0.85       -\n",
        "20h     0.4       1    1      0.4\n",
        "\n",
        "Es posible la coincidencia de horarios, pero en este\n",
        "caso la audiencia de cada partido se verá afectada y\n",
        "se estima que se reduce en porcentaje según la\n",
        "siguiente tabla dependiendo del número de\n",
        "coincidencias:\n",
        "\n",
        "\n"
      ],
      "metadata": {
        "id": "CEpSU6RrAzjS"
      }
    },
    {
      "cell_type": "code",
      "metadata": {
        "id": "AiskKkzZfy4e"
      },
      "source": [],
      "execution_count": null,
      "outputs": []
    },
    {
      "cell_type": "markdown",
      "metadata": {
        "id": "3_-exlrTgLd-"
      },
      "source": [
        "(*)¿Cuantas posibilidades hay sin tener en cuenta las restricciones?<br>\n",
        "\n",
        "\n",
        "\n",
        "¿Cuantas posibilidades hay teniendo en cuenta todas las restricciones.\n",
        "\n",
        "\n"
      ]
    },
    {
      "cell_type": "markdown",
      "metadata": {
        "id": "WfCUqJyKhPcw"
      },
      "source": [
        "Respuesta"
      ]
    },
    {
      "cell_type": "markdown",
      "source": [
        "El espacio de soluciones sin restricciones (siendo esta que tiene que haber un partido los Viernes y otro los Lunes ) responde a la fórmula combinatoria de Variaciones Con Repetición del conjunto de horarios disponibles, cuyo tamaño es 10. Por lo tanto, estamos ante:\n",
        "<br>\n",
        "<span style=\"align:center\">$VR_{10, 10} = 10^{10}$ </span><br>\n",
        "soluciones distintas.\n",
        "\n",
        "Si tenemos en cuenta las restricciones, por un lado tendríamos que asignar un partido obligatoriamente a los viernes y otro a los lunes. La fórmula combinatoria que nos da la cantidad de posibilidades es la de Variaciones (porque importa el orden) todos los partidos tomados de dos en dos.\n",
        "<br>\n",
        "$V_{10,2} = \\frac{{10!}}{{(10-2)!}} = \\frac{{10!}}{{8!}} = 9 · 10 = 90 $\n",
        "<br>\n",
        "Ahora, para cada una de las distribuciones de partidos de viernes y lunes deberemos repartir los 8 partidos restantes entre los 10 horarios disponibles (ya que se admiten repeticiones en los horarios). Es decir, Variaciones Con Repetición (ya que importa el orden) de 10 elementos (los horarios) tomados de 8 en 8 (los partidos):\n",
        "<br>\n",
        "$VR_{10, 8} = 10^{8}$\n",
        "\n",
        "Para cada distribución de partidos entre viernes y lunes existen las $10^8$ posibilidades, por lo tanto el número total de posibilidades teniendo en cuenta las restricciones es:\n",
        "<br>\n",
        "$V_{10,2} · VR_{10,8} = 90 · 10^8 = 9 · 10^9$\n"
      ],
      "metadata": {
        "id": "JIkKsyjS5uhE"
      }
    },
    {
      "cell_type": "markdown",
      "metadata": {
        "id": "dzynfVJahHoY"
      },
      "source": [
        "Modelo para el espacio de soluciones<br>\n",
        "(*) ¿Cual es la estructura de datos que mejor se adapta al problema? Argumentalo.(Es posible que hayas elegido una al principio y veas la necesidad de cambiar, arguentalo)\n"
      ]
    },
    {
      "cell_type": "markdown",
      "metadata": {
        "id": "xFIJrOwKi2Ti"
      },
      "source": [
        "Respuesta\n",
        "\n",
        "He elegido como representación una lista de horarios (que serán las soluciones) que se corresponden a los partidos. De esta forma, el horario asignado al partido 1 será el valor de la lista de horarios en esa posición. La correspondencia es:\n",
        "<ul>\n",
        "  <li>0 -> Viernes 20h</li>\n",
        "  <li>1 -> Sábado 12 h</li>\n",
        "  <li>2 -> Sábado 16 h</li>\n",
        "  <li>3 -> Sábado 18 h</li>\n",
        "  <li>4 -> Sábado 20 h</li>\n",
        "  <li>5 -> Domingo 12 h</li>\n",
        "  <li>6 -> Domingo 16 h</li>\n",
        "  <li>7 -> Domingo 18 h</li>\n",
        "  <li>8 -> Domingo 20 h</li>\n",
        "  <li>9 -> Lunes 20 h</li>\n",
        "</ul>\n",
        "\n",
        "Entonces, si una solución posible es [1, 3, 4, 4, 0, 5, 7, 8, 6, 9], se interpreta como:\n",
        "<ul>\n",
        "  <li>Primer partido, Sábado a las 12h</li>\n",
        "  <li>Segundo partido, Sábado 18 h</li>\n",
        "  <li>Tercer partido, Sábado 20 h</li>\n",
        "  <li>Cuarto partido, Sábado 20 h</li>\n",
        "  <li>Quinto partido, Viernes a las 20 h</li>\n",
        "  <li>Sexto partido, Domingo a las 12 h</li>\n",
        "  <li>Séptimo partido, Domingo a las 18 h</li>\n",
        "  <li>Octavo partido, Domingo a las 20 h</li>\n",
        "  <li>Noveno partido, Domingo a las 16 h</li>\n",
        "  <li>Décimo partido, Lunes 20 h</li>\n",
        "</ul>\n",
        "\n",
        "La estructura de lista es sencilla de implementar (es un tipo del lenguaje Python), fácil de manipular y directamente trasladable a su uso con NumPy. Además, las funciones de aleatorización utilizadas más adelante aceptan en su mayoría una lista como valor de entrada."
      ]
    },
    {
      "cell_type": "markdown",
      "metadata": {
        "id": "7Z9U2W7bi-XS"
      },
      "source": [
        "Según el modelo para el espacio de soluciones<br>\n",
        "(*)¿Cual es la función objetivo?\n",
        "\n",
        "(*)¿Es un problema de maximización o minimización?"
      ]
    },
    {
      "cell_type": "markdown",
      "source": [
        "Respuesta<br>\n",
        "La función objetivo a **maximizar** (ya que es un **problema de maximización**) es la que calcula la audiencia total de una organización de jornada regida por las reglas expuestas en el enunciado. Esquemáticamente:\n",
        "<ol>\n",
        "  <li>Para cada partido se examinan las categorías de los dos equipos y se calcula la audiencia base de dicho partido. (Proporcionado en la tabla del enunciado)</li>\n",
        "  <li>Calcular el factor de multiplicación de esa audiencia base dependiendo del horario asignado a ese partido. Estos factores también se encuentran en el enunciado.</li>\n",
        "  <li>Para cada horario, encontrar cuántos partidos se celebran a esa hora,y si coinciden más de uno, aplicar el factor reductor de la audiencia que depende del número de partidos coincidentes. Estos factores también se encuentran en el enunciado. </li>\n",
        "</ol>"
      ],
      "metadata": {
        "id": "9rmeJvAx_bUf"
      }
    },
    {
      "cell_type": "markdown",
      "metadata": {
        "id": "70rDgxYXkC8r"
      },
      "source": [
        "Respuesta"
      ]
    },
    {
      "cell_type": "markdown",
      "source": [
        "Primero instalamos y cargamos las librerías necesarias para la ejecución de este notebook"
      ],
      "metadata": {
        "id": "lK9kkn6NBN6z"
      }
    },
    {
      "cell_type": "code",
      "metadata": {
        "id": "CJb5sQ0qkENy",
        "colab": {
          "base_uri": "https://localhost:8080/"
        },
        "outputId": "69f1ba72-10fe-4ef6-b7c3-87112f8e6412"
      },
      "source": [
        "!pip install numpy\n",
        "!pip install tqdm\n",
        "!pip install pandas"
      ],
      "execution_count": 1,
      "outputs": [
        {
          "output_type": "stream",
          "name": "stdout",
          "text": [
            "Requirement already satisfied: numpy in /usr/local/lib/python3.10/dist-packages (1.22.4)\n",
            "Requirement already satisfied: tqdm in /usr/local/lib/python3.10/dist-packages (4.65.0)\n",
            "Requirement already satisfied: pandas in /usr/local/lib/python3.10/dist-packages (1.5.3)\n",
            "Requirement already satisfied: python-dateutil>=2.8.1 in /usr/local/lib/python3.10/dist-packages (from pandas) (2.8.2)\n",
            "Requirement already satisfied: pytz>=2020.1 in /usr/local/lib/python3.10/dist-packages (from pandas) (2022.7.1)\n",
            "Requirement already satisfied: numpy>=1.21.0 in /usr/local/lib/python3.10/dist-packages (from pandas) (1.22.4)\n",
            "Requirement already satisfied: six>=1.5 in /usr/local/lib/python3.10/dist-packages (from python-dateutil>=2.8.1->pandas) (1.16.0)\n"
          ]
        }
      ]
    },
    {
      "cell_type": "code",
      "source": [
        "import itertools\n",
        "import random\n",
        "from tqdm import tqdm\n",
        "import numpy as np\n",
        "from collections import Counter\n",
        "import pandas as pd"
      ],
      "metadata": {
        "id": "dDAinij_BeX7"
      },
      "execution_count": 2,
      "outputs": []
    },
    {
      "cell_type": "markdown",
      "source": [
        "A continuación creamos una serie de estructuras necesarias para la ejecución de las implementaciones que se presentan más abajo."
      ],
      "metadata": {
        "id": "NYkdeCJQBkGS"
      }
    },
    {
      "cell_type": "code",
      "source": [
        "#mapa de audiencias base según el tipo de partido\n",
        "audiencia_base_partidos = {\"AA\": 2, \"AB\": 1.3, \"AC\": 1, \"BB\": 0.9, \"BC\": .75, \"CC\": .47}\n",
        "#factor de corrección de la audiencia según el horario (ver la distribución de\n",
        "# horarios explicada antes).\n",
        "factor_horario = [0.4, 0.55, 0.7, 0.8, 1, 0.45, 0.75, 0.85, 1, 0.4]\n",
        "#factor de corrección de la audiencia según el número de partidos coincidentes\n",
        "#e.g. si coinciden 2 partidos, el factor resultante será\n",
        "# factor = 1 - factor_coincidencia[partidos_coincidentes -1]\n",
        "# La razón de restar uno es que al menos siempre habrá un partido que coincida con otro,\n",
        "# se trata del mismo partido.\n",
        "factor_coincidencia = [0, 0.25, 0.45, 0.6, 0.7, 0.75, 0.78, 0.8, 0.8]\n",
        "\n",
        "#generamos los equipos por categoría\n",
        "# 3 de categoría A\n",
        "# 11 de categoría B\n",
        "# 6 de categoría C\n",
        "equipos_por_letra = list('A' * 3 + 'B' * 11 + 'C' * 6)"
      ],
      "metadata": {
        "id": "Vd1sc85dBufM"
      },
      "execution_count": 3,
      "outputs": []
    },
    {
      "cell_type": "markdown",
      "source": [
        "Definimos ahora funciones que serán utilizadas en las implementaciones de manera interna"
      ],
      "metadata": {
        "id": "o0V1uXYwDOG4"
      }
    },
    {
      "cell_type": "code",
      "source": [
        "# funciones lambda de ayuda para los cálculos mediante NumPy\n",
        "calcular_factor_coincidencias = lambda x: 1 - factor_coincidencia[x - 1]\n",
        "calcular_factor_horario = lambda x: factor_horario[x]\n",
        "\n",
        "def generar_jornada(equipos):\n",
        "    '''Función que dado una lista de equipos,\n",
        "    genera una jornada aleatoria de partidos'''\n",
        "    jornada = []\n",
        "    #realizamos una copia para no modificar la lista original\n",
        "    equipos_restantes = equipos.copy()\n",
        "    #reorganizamos de manera aleatoria los equipos\n",
        "    random.shuffle(equipos_restantes)\n",
        "    while equipos_restantes:\n",
        "        #tras organizar de manera aleatoria, vamos tomando\n",
        "        #las dos últimas posición y enfrentando a esos dos equipos\n",
        "        e1 = equipos_restantes.pop()\n",
        "        e2 = equipos_restantes.pop()\n",
        "        #Representaremos al partido directamente como su audiencia_base\n",
        "        #el método sorted convierte posibles combinaciones como CA o CB en AC, BC\n",
        "        # que están presentes en el diccionario de audiencias.\n",
        "        partido = audiencia_base_partidos[\"\".join(sorted([e1, e2]))]\n",
        "        jornada.append(partido)\n",
        "    return jornada\n",
        "\n",
        "def organizar_jornada(calcular_factor_coincidencias, calcular_factor_horario,\n",
        "                      horario, jornada_base, partidos):\n",
        "    '''dada una jornada base (que ya tiene un partido viernes y otro lunes)\n",
        "    y un horario determinado representado como una lista de enteros\n",
        "    asigna a los partidos que no son base ese horario'''\n",
        "    jornada_candidata = jornada_base.copy()\n",
        "    jornada_candidata[jornada_candidata == -1] = horario\n",
        "    # evalua la jornada para calcular su audiencia\n",
        "    audiencia_total, jornada_candidata = evaluar_jornada(calcular_factor_coincidencias,\n",
        "                                                         calcular_factor_horario,\n",
        "                                                         jornada_candidata,\n",
        "                                                         partidos)\n",
        "    return audiencia_total, jornada_candidata\n",
        "\n",
        "def evaluar_jornada(calcular_factor_coincidencias, calcular_factor_horario,\n",
        "                    jornada_candidata, partidos):\n",
        "    '''Esta función es la función de coste a maximizar. Recibe como entrada las\n",
        "    funciones de cálculo de factores, la jornada candidata y los partidos'''\n",
        "    # creamos un contador que nos ayudará a saber las coincidencias en horario\n",
        "    # de los partidos\n",
        "    freq = Counter(jornada_candidata)\n",
        "    # en una fila guardamos los factores horarios de cada elemento del horario\n",
        "    factores_horarios = np.array([calcular_factor_horario(x) for x in jornada_candidata])\n",
        "    # en otra fila guardamos los factores por coincidencia horaria de cada partido\n",
        "    coincidencias = np.array([calcular_factor_coincidencias(freq[val]) for val in jornada_candidata])\n",
        "    # creamos un array de numpy con el horario, los factores y los partidos\n",
        "    jornada_candidata = np.vstack((jornada_candidata, factores_horarios, coincidencias, partidos))\n",
        "    # calculamos la audiencia total como el producto de las tres últimas filas\n",
        "    audiencia = np.prod(jornada_candidata[1:], axis=0)\n",
        "    # adjuntamos este cálculo a la tabla\n",
        "    jornada_candidata = np.vstack((jornada_candidata, audiencia))\n",
        "    # la audiencia será el total de las audiencias\n",
        "    audiencia_total = np.sum(jornada_candidata[-1])\n",
        "    return audiencia_total, jornada_candidata"
      ],
      "metadata": {
        "id": "lWQpsselDNXk"
      },
      "execution_count": 8,
      "outputs": []
    },
    {
      "cell_type": "markdown",
      "metadata": {
        "id": "rlnTYgY1j6I2"
      },
      "source": [
        "Diseña un algoritmo para resolver el problema por fuerza bruta"
      ]
    },
    {
      "cell_type": "markdown",
      "source": [
        "La solución por fuerza bruta nos obliga a examinar **todas** las posibles soluciones y comparar las audiencias para encontrar de esta manera la solución óptima. No obstante, el problema tiene un tamaño de $9 · 10^9$ soluciones, lo que le hace intratable si quermos realizar una ejecución en tiempo razonable. (Una prueba de ejecución requirió casi 15 horas en mi equipo personal, Apple M1 Max con 32GB de RAM). Por lo tanto, se presenta el código pero no se ejecuta ya que el entorno de Colab no va a permitir una ejecución que lleve tanto tiempo."
      ],
      "metadata": {
        "id": "VOenIG1QGHcb"
      }
    },
    {
      "cell_type": "code",
      "source": [
        "def jornada_fuerza_bruta(partidos):\n",
        "    '''Función que explora todo el espacio de soluciones posible'''\n",
        "    max_audiencia = 0\n",
        "    mejor_jornada = 0\n",
        "\n",
        "    # para cada una de las posibilidades de organizar al menos un partido viernes\n",
        "    #y lunes\n",
        "    for viernes, lunes in itertools.permutations(range(len(partidos)), 2):\n",
        "        # creamos una jornada base\n",
        "        # se inician todos los horarios a -1 (no asignado)\n",
        "        jornada_base = [-1] * len(partidos)\n",
        "        jornada_base = np.array(jornada_base)\n",
        "        # al partido del viernes le asignamos un 0, al del lunes un 9\n",
        "        jornada_base[viernes] = 0\n",
        "        jornada_base[lunes] = 9\n",
        "\n",
        "        # para cada una de las 10^8 posibilidades de ordenación de los horarios\n",
        "        # para el resto de partidos\n",
        "        for horario in itertools.product(range(len(partidos)), repeat=len(partidos)-2):\n",
        "            # creamos una jornada y estimamos su audiencia\n",
        "            audiencia_total, jornada_candidata = organizar_jornada(calcular_factor_coincidencias,\n",
        "                                                                   calcular_factor_horario, horario, jornada_base,\n",
        "                                                                   partidos)\n",
        "            # si la audiencia es mayor que la máxima vista hasta ahora\n",
        "            # la tomamos como la máxima audiencia\n",
        "            if audiencia_total > max_audiencia:\n",
        "                max_audiencia = audiencia_total\n",
        "                mejor_jornada = jornada_candidata\n",
        "\n",
        "    return max_audiencia, mejor_jornada"
      ],
      "metadata": {
        "id": "c94N1EpEG0ei"
      },
      "execution_count": 9,
      "outputs": []
    },
    {
      "cell_type": "markdown",
      "metadata": {
        "id": "tgrnsC2nkFa8"
      },
      "source": [
        "Calcula la complejidad del algoritmo por fuerza bruta\n",
        "<br>\n",
        "La complejidad del bucle interior es $10^{(n-2)}$ siendo n el número de partidos. Este bucle se repite $\\frac{{n!}}{{n-2!}} = n·(n-1)$. Por lo tanto, la complejidad de esta implementación es: <br>\n",
        "$T(n) = n·(n-1)·10^{(n-2)}$,\n",
        "<br>\n",
        "es decir, estamos ante una implementación de orde exponencial."
      ]
    },
    {
      "cell_type": "markdown",
      "metadata": {
        "id": "9eUd3xwckP68"
      },
      "source": [
        "Respuesta"
      ]
    },
    {
      "cell_type": "markdown",
      "metadata": {
        "id": "txbrmLmskReM"
      },
      "source": [
        "(*)Diseña un algoritmo que mejore la complejidad del algortimo por fuerza bruta. Argumenta porque crees que mejora el algoritmo por fuerza bruta"
      ]
    },
    {
      "cell_type": "markdown",
      "metadata": {
        "id": "hLrVwt5QkZPD"
      },
      "source": [
        "Respuesta"
      ]
    },
    {
      "cell_type": "code",
      "metadata": {
        "id": "m1eyM21Vkabg"
      },
      "source": [],
      "execution_count": null,
      "outputs": []
    },
    {
      "cell_type": "markdown",
      "metadata": {
        "id": "eGDB4K6uk1iN"
      },
      "source": [
        "(*)Calcula la complejidad del algoritmo"
      ]
    },
    {
      "cell_type": "markdown",
      "metadata": {
        "id": "NhpTh_BPk1ms"
      },
      "source": [
        "Respuesta"
      ]
    },
    {
      "cell_type": "code",
      "metadata": {
        "id": "nREzhkStlCq8"
      },
      "source": [],
      "execution_count": null,
      "outputs": []
    },
    {
      "cell_type": "markdown",
      "metadata": {
        "id": "3M6QjTsSkmYe"
      },
      "source": [
        "Según el problema (y tenga sentido), diseña un juego de datos de entrada aleatorios"
      ]
    },
    {
      "cell_type": "markdown",
      "metadata": {
        "id": "Jc3_OlyNkvjZ"
      },
      "source": [
        "Respuesta"
      ]
    },
    {
      "cell_type": "code",
      "metadata": {
        "id": "sJ-N2etjkyWc"
      },
      "source": [],
      "execution_count": null,
      "outputs": []
    },
    {
      "cell_type": "markdown",
      "metadata": {
        "id": "zy5ZROmjlGo1"
      },
      "source": [
        "Aplica el algoritmo al juego de datos generado"
      ]
    },
    {
      "cell_type": "markdown",
      "metadata": {
        "id": "_Cmj-PVylMsa"
      },
      "source": [
        "Respuesta"
      ]
    },
    {
      "cell_type": "code",
      "metadata": {
        "id": "Jkx8GeiYlUz1"
      },
      "source": [],
      "execution_count": null,
      "outputs": []
    },
    {
      "cell_type": "markdown",
      "metadata": {
        "id": "eTFWUJQrtGcv"
      },
      "source": [
        "Enumera las referencias que has utilizado(si ha sido necesario) para llevar a cabo el trabajo"
      ]
    },
    {
      "cell_type": "markdown",
      "metadata": {
        "id": "YKQ_mRBttWsP"
      },
      "source": [
        "Respuesta"
      ]
    },
    {
      "cell_type": "markdown",
      "metadata": {
        "id": "kAkDPUyRtYyH"
      },
      "source": [
        "Describe brevemente las lineas de como crees que es posible avanzar en el estudio del problema. Ten en cuenta incluso posibles variaciones del problema y/o variaciones al alza del tamaño"
      ]
    },
    {
      "cell_type": "markdown",
      "metadata": {
        "id": "IE0uZmo-tZu-"
      },
      "source": [
        "Respuesta"
      ]
    }
  ]
}